{
 "cells": [
  {
   "cell_type": "markdown",
   "metadata": {},
   "source": [
    "# MSDS 7333 - Week 4 Case Study: Future Contract Rolling\n",
    "\n",
    "### Investigators\n",
    "- [Matt Baldree](mailto:mbaldree@smu.edu?subject=lab2)\n",
    "- [Ben Brock](bbrock@smu.edu?subject=lab2)\n",
    "- [Tom Elkins](telkins@smu.edu?subject=lab2)\n",
    "- [Austin Kelly](ajkelly@smu.edu?subject=lab2)\n",
    "\n",
    "\n",
    "<div style='margin-left:10%;margin-right:10%;margin-top:15px;background-color:#d3d3d3;padding:5px;'>\n",
    "    <h3>Instructions</h3>\n",
    "    <p>Choose either the Signal Frontier Analysis application or Future Contract Rolling application.</p>\n",
    "     <p>Steps:</p>\n",
    "    <ol>\n",
    "        <li>Use different stocks than those shown in examples.</li>\n",
    "        <li>Create IPython Notebook, including code, output, and graphics.</li>\n",
    "        <li>Include an introduction in your notebook to give background on your application.</li>\n",
    "        <li>Be sure to explain calculations and output in the appropriate places.</li>\n",
    "        <li>List outside references if used.</li>\n",
    "        <li>The filename should incliude your first initial and last name and '_case study title'.</li>\n",
    "    </ol> \n",
    "    <p>Report Sections:</p>\n",
    "    <ol>\n",
    "        <li>[Introduction](#introduction) <b>(5 points)</b></li>\n",
    "        <li>[Background](#background) <b>(10 points)</b></li>\n",
    "        <li>[Methods](#methods) <b>(30 points)</b></li>\n",
    "        <li>[Results](#results) <b>(30 points)</b></li>\n",
    "        <li>[Conclusion](#conclusion) <b>(5 points)</b></li>\n",
    "        <li>[Bibliography and Citation](#biblio) <b>(5 points)</b></li>\n",
    "        <li>[Code](#code) <b>(5 points)</b></li>\n",
    "    </ol>\n",
    "     <p>Other Grading Criterium:</p>\n",
    "    <ol>\n",
    "        <li>Grammar and Organization <b>(10 points)</b></li>\n",
    "    </ol>\n",
    "</div>"
   ]
  },
  {
   "cell_type": "markdown",
   "metadata": {},
   "source": [
    "<a id='introduction'></a>\n",
    "## 1 - Introduction\n",
    "<div style='margin-left:10%;margin-right:10%;margin-top:15px;background-color:#d3d3d3;padding:10px;'>\n",
    "<h3>Introduction (<b>5 points total</b>)</h3>\n",
    "</div>"
   ]
  },
  {
   "cell_type": "markdown",
   "metadata": {},
   "source": [
    "TODO"
   ]
  },
  {
   "cell_type": "code",
   "execution_count": 1,
   "metadata": {
    "collapsed": false
   },
   "outputs": [],
   "source": [
    "from __future__ import division\n",
    "from __future__ import print_function\n",
    "from pandas import Series, DataFrame\n",
    "import pandas as pd\n",
    "from pandas_datareader import data\n",
    "from numpy.random import randn\n",
    "import numpy as np\n",
    "pd.options.display.max_rows = 12\n",
    "np.set_printoptions(precision=4, suppress=True)\n",
    "\n",
    "import matplotlib as mpl\n",
    "import matplotlib.pyplot as plt\n",
    "plt.rc('figure', figsize=(12, 6))"
   ]
  },
  {
   "cell_type": "code",
   "execution_count": 2,
   "metadata": {
    "collapsed": false
   },
   "outputs": [
    {
     "name": "stdout",
     "output_type": "stream",
     "text": [
      "pandas 19.2 and pandas-datareader 0.2.1 required.\n",
      "pandas 0.19.2\n",
      "numpy 1.11.3\n",
      "matplotlib 2.0.0\n"
     ]
    }
   ],
   "source": [
    "print('pandas 19.2 and pandas-datareader 0.2.1 required.')\n",
    "print('pandas', pd.__version__)\n",
    "print('numpy', np.__version__)\n",
    "print('matplotlib', mpl.__version__)"
   ]
  },
  {
   "cell_type": "code",
   "execution_count": 3,
   "metadata": {
    "collapsed": false
   },
   "outputs": [
    {
     "data": {
      "text/plain": [
       "'/Users/mattbaldree/Google Drive/smu/quantifying/QTW_04/QTW_04_Financial'"
      ]
     },
     "execution_count": 3,
     "metadata": {},
     "output_type": "execute_result"
    }
   ],
   "source": [
    "%matplotlib inline\n",
    "%pwd"
   ]
  },
  {
   "cell_type": "markdown",
   "metadata": {},
   "source": [
    "<a id=\"background\"></a>\n",
    "## 2 - Background\n",
    "\n",
    "<div style='margin-left:10%;margin-right:10%;margin-top:15px;background-color:#d3d3d3;padding:10px;'>\n",
    "<h3>Background (<b>10 points total</b>)</h3>\n",
    "</div>"
   ]
  },
  {
   "cell_type": "markdown",
   "metadata": {},
   "source": [
    "\"A future is a ubiquitous form of derivative contract; it is an agreement to take delivery of a certain asset (such as oil, gold, or shares of the FTSE 100 index) on a particular date [1].\" The 'particular date' is the expiration or expiry date. A future is often utilized to hedge the prices of a commodity but they can be used on anything [2].\n",
    "\n",
    "Futures are volatile because they have an expiration or expiry. Contracts with nearest date of expiry are known as *near contract* [2]. At any point in time there could be many futures overlapping complicating which one should be traded. This is different than normal equity trading with a continuous time or contract. Therefore, the goal is to construct a continuous timeline for a set of futures contracts.\n",
    "\n",
    "The difficulty in creating a continuous contract is the futures have different trade prices. There isn't a single standard method to join future contracts, but different approaches dependent on the contract and method of execution. Modeling futures is complicated by the time-limited nature of each contract because multiple contracts with different expiration dates may be traded. Often the contracts expiring sooner are more liquid meaning these are traded more often and have the lowest bid-ask spread. Common approaches to this problem include *Back/Forward ('Panama') Adjustment*, *Proportional Adjustment*, and *Rollover/Perpetual Series* [2].\n",
    "\n",
    "This notebook will demonstrate the *Rollover/Perpetual Series* approach that creates a continuous contract by taking a linearly weighted proportion of each contract over a number of days. An illustration of this approach is provided by [2]. It is easier to model a contracts on a continuous return index indicating profit and loss. The contracts are weighted with active contracts given a one and others with a linear decay over a number of periods leadng up to expiration.\n",
    "> For example consider five smoothing days. The price on day 1, P1 , is equal to 80% of the far contract price (F1) and 20% of the near contract price (N1). Similarly, on day 2 the price is P2=0.6×F2+0.4×N2. By day 5 we have P5=0.0×F5+1.0×N5=N5 and the contract then just becomes a continuation of the near price. Thus after five days the contract is smoothly transitioned from the far to the near.\n",
    "\n",
    "Dynamic models allow us to simulate trading decision over a historic period. Moving window and exponentially weighted time series functions are an example of tools used to create dynamic models. Correlation and ordinary least squares can also be used to look at co-movement between the changes in two asset time series and differences in volatility."
   ]
  },
  {
   "cell_type": "markdown",
   "metadata": {},
   "source": [
    "<a id=\"methods\"></a>\n",
    "## 3 - Methods\n",
    "\n",
    "<div style='margin-left:10%;margin-right:10%;margin-top:15px;background-color:#d3d3d3;padding:10px;'>\n",
    "<h3>Methods (<b>30 points total</b>)</h3>"
   ]
  },
  {
   "cell_type": "markdown",
   "metadata": {},
   "source": [
    "### Retrieve stock data for a list of stock symbols"
   ]
  },
  {
   "cell_type": "code",
   "execution_count": 4,
   "metadata": {
    "collapsed": true
   },
   "outputs": [],
   "source": [
    "# parameters\n",
    "stock_names = ['SPY'] # SPDR S&P 500 ETF Trust\n",
    "source = 'google'\n",
    "start = '1/1/2015'\n",
    "end = None"
   ]
  },
  {
   "cell_type": "code",
   "execution_count": 5,
   "metadata": {
    "collapsed": false,
    "scrolled": true
   },
   "outputs": [
    {
     "name": "stdout",
     "output_type": "stream",
     "text": [
      "[DatetimeIndex(['2015-01-02', '2015-01-05', '2015-01-06', '2015-01-07',\n",
      "               '2015-01-08', '2015-01-09', '2015-01-12', '2015-01-13',\n",
      "               '2015-01-14', '2015-01-15',\n",
      "               ...\n",
      "               '2017-05-15', '2017-05-16', '2017-05-17', '2017-05-18',\n",
      "               '2017-05-19', '2017-05-22', '2017-05-23', '2017-05-24',\n",
      "               '2017-05-25', '2017-05-26'],\n",
      "              dtype='datetime64[ns]', name='Date', length=605, freq=None), Index(['SPY'], dtype='object')]\n",
      "               SPY\n",
      "Date              \n",
      "2015-01-02  2054.3\n",
      "2015-01-05  2017.2\n",
      "2015-01-06  1998.2\n",
      "2015-01-07  2023.1\n",
      "2015-01-08  2059.0\n",
      "\n",
      "Time series start date = 2015-01-02 00:00:00\n"
     ]
    }
   ],
   "source": [
    "# retrieve stock data\n",
    "stocks = data.DataReader(stock_names, 'google', start, end)\n",
    "s_p = stocks['Close']\n",
    "start_date = s_p.index[0]\n",
    "\n",
    "# scale SPY to equivalent index value\n",
    "s_p = s_p * 10\n",
    "\n",
    "# print out panel axes\n",
    "print(s_p.axes)\n",
    "print(s_p.head())\n",
    "print('')\n",
    "print('Time series start date =', start_date)"
   ]
  },
  {
   "cell_type": "markdown",
   "metadata": {},
   "source": [
    "### Create Futures"
   ]
  },
  {
   "cell_type": "code",
   "execution_count": 6,
   "metadata": {
    "collapsed": false
   },
   "outputs": [
    {
     "name": "stdout",
     "output_type": "stream",
     "text": [
      "Futures estimated pricing:\n",
      "\n",
      "                ESU2     ESZ2\n",
      "2018-01-26  2446.35  2448.10\n",
      "2018-01-29  2432.60  2434.85\n",
      "2018-01-30  2440.60  2442.35\n",
      "2018-01-31  2457.10  2456.35\n",
      "2018-02-01  2437.10  2434.85\n"
     ]
    }
   ],
   "source": [
    "# simulate contracts in the future with random walk and noise\n",
    "np.random.seed(12347)\n",
    "N = 200\n",
    "\n",
    "# N size array of random numnber between 0-200 - 100, then x 0.25\n",
    "walk = (np.random.randint(0, 200, size=N) - 100) * 0.25\n",
    "# N size array of random numnber between 0-100 - 10, then x 0.25\n",
    "noise = (np.random.randint(0, 20, size=N) - 10) * 0.25\n",
    "# cumulative sum \n",
    "walk = walk.cumsum()\n",
    "\n",
    "# create a date range to be used for prices index\n",
    "rng = pd.date_range(s_p.index[0], periods=len(s_p) + N, freq='B')\n",
    "# create near term future contract by appending data = last price plus walk increase\n",
    "near = np.concatenate([s_p.values.ravel(), s_p.values[-1].ravel() + walk])\n",
    "# create far term future contract by appending data = last price plus walk and noise increase\n",
    "far = np.concatenate([s_p.values.ravel(), s_p.values[-1].ravel() + walk + noise])\n",
    "\n",
    "# new dataframe with the two contracts\n",
    "prices = DataFrame({'ESU2': near, 'ESZ2': far}, index=rng)\n",
    "\n",
    "print('Futures estimated pricing:\\n\\n', prices.tail())"
   ]
  },
  {
   "cell_type": "markdown",
   "metadata": {},
   "source": [
    "### Determine Rolled Returns"
   ]
  },
  {
   "cell_type": "markdown",
   "metadata": {},
   "source": [
    "Splice time series together into a single continuous series by a weighting matrix. Active contracts receive a weight of one until expiry date. After expiry date, a roll convention is used."
   ]
  },
  {
   "cell_type": "code",
   "execution_count": 7,
   "metadata": {
    "collapsed": false
   },
   "outputs": [
    {
     "name": "stdout",
     "output_type": "stream",
     "text": [
      "ESU2   2016-09-21\n",
      "ESZ2   2016-12-21\n",
      "dtype: datetime64[ns]\n"
     ]
    }
   ],
   "source": [
    "# create expiry dates\n",
    "from datetime import datetime\n",
    "expiry_dates = {'ESU2': datetime(2016, 9, 21),\n",
    "           'ESZ2': datetime(2016, 12, 21)}\n",
    "expiry_dates = Series.sort_values(Series(expiry_dates))\n",
    "print(expiry_dates)"
   ]
  },
  {
   "cell_type": "code",
   "execution_count": 8,
   "metadata": {
    "collapsed": false
   },
   "outputs": [],
   "source": [
    "def get_roll_weights(start, expiry_dates, futures, roll_periods=5):\n",
    "    \"\"\"\n",
    "    This constructs a pandas DataFrame that contains weights (between 0.0 and 1.0)\n",
    "    of contract positions to hold in order to carry out a rollover of rollover_days\n",
    "    prior to the expiration of the earliest contract. The matrix can then be\n",
    "    'multiplied' with another DataFrame containing the settle prices of each\n",
    "    contract in order to produce a continuous time series futures contract.\n",
    "    \n",
    "    Args:\n",
    "        start: first date to compute weighting DataFrame\n",
    "        expiry: Series of ticker expiration dates\n",
    "        items: sequence of contract names\n",
    "    \"\"\"\n",
    "    \n",
    "    # create business days from start to last expiry\n",
    "    dates = pd.date_range(start, expiry_dates[-1], freq='B')\n",
    "    # initialize weights to 0.0\n",
    "    weights = DataFrame(np.zeros((len(dates), len(futures))), index=dates, columns=futures)\n",
    "    \n",
    "    # set to first date\n",
    "    prev_date = weights.index[0]\n",
    "    \n",
    "    # loop through futures and create weights depending upon expiry and rollover days (periods)\n",
    "    # i=iteration, item=name of future, ex_date=date of expiry\n",
    "    for i, (future, ex_date) in enumerate(expiry_dates.iteritems()):\n",
    "        # if i < 1\n",
    "        if i < len(expiry_dates) - 1:\n",
    "            business_day = pd.offsets.BDay()\n",
    "            # set weights to 1 for future from prev_date to ex_date-1 day\n",
    "            weights.ix[prev_date:ex_date - business_day, future] = 1\n",
    "            # determine dates for decay weights\n",
    "            roll_rng = pd.date_range(end=ex_date - business_day,\n",
    "                                     periods=roll_periods + 1, freq='B')\n",
    "            \n",
    "            # create roll weights to use for future from 0. to 1.\n",
    "            decay_weights = np.linspace(0, 1, roll_periods + 1)\n",
    "            weights.ix[roll_rng, future] = 1 - decay_weights\n",
    "            weights.ix[roll_rng, expiry_dates.index[i + 1]] = decay_weights\n",
    "        else:\n",
    "            weights.ix[prev_date:, future] = 1\n",
    "            \n",
    "        prev_date = ex_date\n",
    "    \n",
    "    return weights"
   ]
  },
  {
   "cell_type": "markdown",
   "metadata": {},
   "source": [
    "Get rolling weights from start date for each contract"
   ]
  },
  {
   "cell_type": "code",
   "execution_count": 9,
   "metadata": {
    "collapsed": false
   },
   "outputs": [
    {
     "name": "stdout",
     "output_type": "stream",
     "text": [
      "            ESU2  ESZ2\n",
      "2016-09-12   1.0   0.0\n",
      "2016-09-13   1.0   0.0\n",
      "2016-09-14   0.8   0.2\n",
      "2016-09-15   0.6   0.4\n",
      "2016-09-16   0.4   0.6\n",
      "2016-09-19   0.2   0.8\n",
      "2016-09-20   0.0   1.0\n",
      "2016-09-21   0.0   1.0\n"
     ]
    }
   ],
   "source": [
    "weights = get_roll_weights(start_date, expiry_dates, prices.columns)\n",
    "print(weights.ix['2016-09-12':'2016-09-21'])"
   ]
  },
  {
   "cell_type": "code",
   "execution_count": 10,
   "metadata": {
    "collapsed": false
   },
   "outputs": [
    {
     "name": "stdout",
     "output_type": "stream",
     "text": [
      "             price    return\n",
      "2015-01-02  2054.3       NaN\n",
      "2015-01-05  2017.2 -0.018060\n",
      "2015-01-06  1998.2 -0.009419\n",
      "2015-01-07  2023.1  0.012461\n",
      "2015-01-08  2059.0  0.017745\n",
      "2015-01-09  2042.5 -0.008014\n",
      "...            ...       ...\n",
      "2016-12-14  2264.6 -0.003301\n",
      "2016-12-15  2264.6  0.000000\n",
      "2016-12-16  2271.0  0.002826\n",
      "2016-12-19  2265.3 -0.002510\n",
      "2016-12-20  2270.5  0.002296\n",
      "2016-12-21  2262.5 -0.003523\n",
      "\n",
      "[514 rows x 2 columns]\n"
     ]
    }
   ],
   "source": [
    "rolled_prices = (prices * weights).dropna().sum(1).dropna()\n",
    "rolled_returns = (prices.pct_change() * weights).dropna().sum(1)\n",
    "rolled_results = pd.concat([rolled_prices, rolled_returns], axis=1)\n",
    "rolled_results.columns = ['price', 'return']\n",
    "\n",
    "print(rolled_results)"
   ]
  },
  {
   "cell_type": "markdown",
   "metadata": {},
   "source": [
    "### Visualization"
   ]
  },
  {
   "cell_type": "markdown",
   "metadata": {},
   "source": [
    "Correlation is a way to look at co-movement between changes in two asset time series [1]. "
   ]
  },
  {
   "cell_type": "code",
   "execution_count": 11,
   "metadata": {
    "collapsed": false
   },
   "outputs": [
    {
     "name": "stdout",
     "output_type": "stream",
     "text": [
      "[DatetimeIndex(['2012-01-04', '2012-01-05', '2012-01-06', '2012-01-09',\n",
      "               '2012-01-10', '2012-01-11', '2012-01-12', '2012-01-13',\n",
      "               '2012-01-17', '2012-01-18',\n",
      "               ...\n",
      "               '2017-05-15', '2017-05-16', '2017-05-17', '2017-05-18',\n",
      "               '2017-05-19', '2017-05-22', '2017-05-23', '2017-05-24',\n",
      "               '2017-05-25', '2017-05-26'],\n",
      "              dtype='datetime64[ns]', name='Date', length=1358, freq=None), Index(['AMZN', 'GOOG'], dtype='object')]\n",
      "Date\n",
      "2012-01-04         NaN\n",
      "2012-01-05    0.000563\n",
      "2012-01-06    0.028152\n",
      "2012-01-09   -0.022178\n",
      "2012-01-10    0.004368\n",
      "2012-01-11   -0.002453\n",
      "                ...   \n",
      "2017-05-19    0.001408\n",
      "2017-05-22    0.011283\n",
      "2017-05-23    0.000896\n",
      "2017-05-24    0.009068\n",
      "2017-05-25    0.013291\n",
      "2017-05-26    0.002416\n",
      "Name: AMZN, dtype: float64\n"
     ]
    }
   ],
   "source": [
    "# parameters\n",
    "stock_names = ['AMZN', 'GOOG']\n",
    "source = 'google'\n",
    "start = '1/4/2012'\n",
    "end = None\n",
    "\n",
    "# retrieve stock data\n",
    "stocks = data.DataReader(stock_names, 'google', start, end)['Close']\n",
    "print(stocks.axes)\n",
    "print(stocks.AMZN.pct_change())"
   ]
  },
  {
   "cell_type": "code",
   "execution_count": 12,
   "metadata": {
    "collapsed": false
   },
   "outputs": [
    {
     "data": {
      "text/plain": [
       "<matplotlib.axes._subplots.AxesSubplot at 0x102844160>"
      ]
     },
     "execution_count": 12,
     "metadata": {},
     "output_type": "execute_result"
    },
    {
     "data": {
      "image/png": "[encoded data removed]",
      "text/plain": [
       "<matplotlib.figure.Figure at 0x10c7366d8>"
      ]
     },
     "metadata": {},
     "output_type": "display_data"
    }
   ],
   "source": [
    "stockA = stocks.AMZN.pct_change()\n",
    "stockB = stocks.GOOG.pct_change()\n",
    "\n",
    "# plot one year moving correlation\n",
    "stockA.rolling(window=250).corr(stockB).dropna().plot()"
   ]
  },
  {
   "cell_type": "markdown",
   "metadata": {},
   "source": [
    "Ordinary Least Squares (OLS) Regression to model relationship between a variable and one or more other predictor variables."
   ]
  },
  {
   "cell_type": "code",
   "execution_count": 13,
   "metadata": {
    "collapsed": false
   },
   "outputs": [
    {
     "name": "stderr",
     "output_type": "stream",
     "text": [
      "/Users/mattbaldree/anaconda3/lib/python3.6/site-packages/ipykernel/__main__.py:1: FutureWarning: The pandas.stats.ols module is deprecated and will be removed in a future version. We refer to external packages like statsmodels, see some examples here: http://www.statsmodels.org/stable/regression.html\n",
      "  if __name__ == '__main__':\n"
     ]
    },
    {
     "name": "stdout",
     "output_type": "stream",
     "text": [
      "                GOOG  intercept\n",
      "Date                           \n",
      "2013-01-03  0.487584   0.001492\n",
      "2013-01-04  0.486031   0.001435\n",
      "2013-01-07  0.491755   0.001445\n",
      "2013-01-08  0.489788   0.001425\n",
      "2013-01-09  0.489216   0.001396\n",
      "2013-01-10  0.489109   0.001391\n",
      "...              ...        ...\n",
      "2017-05-19  0.725929   0.000494\n",
      "2017-05-22  0.733106   0.000530\n",
      "2017-05-23  0.731709   0.000511\n",
      "2017-05-24  0.733766   0.000484\n",
      "2017-05-25  0.740648   0.000534\n",
      "2017-05-26  0.739205   0.000492\n",
      "\n",
      "[1108 rows x 2 columns]\n"
     ]
    },
    {
     "data": {
      "text/plain": [
       "<matplotlib.axes._subplots.AxesSubplot at 0x10c9dc9b0>"
      ]
     },
     "execution_count": 13,
     "metadata": {},
     "output_type": "execute_result"
    },
    {
     "data": {
      "image/png": "[encoded data removed]",
      "text/plain": [
       "<matplotlib.figure.Figure at 0x10369e7f0>"
      ]
     },
     "metadata": {},
     "output_type": "display_data"
    }
   ],
   "source": [
    "model = pd.ols(y=stockA, x={'GOOG': stockB}, window=250)\n",
    "print(model.beta)\n",
    "model.beta.GOOG.plot()"
   ]
  },
  {
   "cell_type": "markdown",
   "metadata": {},
   "source": [
    "<a id=\"results\"></a>\n",
    "## 4 - Results\n",
    "\n",
    "<div style='margin-left:10%;margin-right:10%;margin-top:15px;background-color:#d3d3d3;padding:10px;'>\n",
    "<h3>Results (<b>30 points total</b>)</h3>"
   ]
  },
  {
   "cell_type": "markdown",
   "metadata": {},
   "source": [
    "<a id=\"conclusion\"></a>\n",
    "## 5 - Conclusion\n",
    "\n",
    "<div style='margin-left:10%;margin-right:10%;margin-top:15px;background-color:#d3d3d3;padding:10px;'>\n",
    "<h3>Conclusion (<b>5 points total</b>)</h3>"
   ]
  },
  {
   "cell_type": "markdown",
   "metadata": {},
   "source": [
    "<a id=\"biblio\"></a>\n",
    "## 6 - Bibliography and Citation\n",
    "\n",
    "<div style='margin-left:10%;margin-right:10%;margin-top:15px;background-color:#d3d3d3;padding:10px;'>\n",
    "<h3>Bibliography and Citation (<b>5 points total</b>)</h3>\n",
    "</div>\n",
    "\n",
    "- [1] Python for Data Analysis, pgs. 344-348.\n",
    "- [2] Halls-Moore, Michael; Continuous Futures Contracts for Backtesting Purposes; Jan. 29th, 2014; https://www.quantstart.com/articles/Continuous-Futures-Contracts-for-Backtesting-Purposes."
   ]
  },
  {
   "cell_type": "markdown",
   "metadata": {},
   "source": [
    "<a id=\"code\"></a>\n",
    "## 7 - Code\n",
    "\n",
    "<div style='margin-left:10%;margin-right:10%;margin-top:15px;background-color:#d3d3d3;padding:10px;'>\n",
    "<h3>Code (5 points)</h3>\n",
    "</div>\n",
    "\n",
    "See code in Methods section"
   ]
  }
 ],
 "metadata": {
  "kernelspec": {
   "display_name": "Python 3",
   "language": "python",
   "name": "python3"
  },
  "language_info": {
   "codemirror_mode": {
    "name": "ipython",
    "version": 3
   },
   "file_extension": ".py",
   "mimetype": "text/x-python",
   "name": "python",
   "nbconvert_exporter": "python",
   "pygments_lexer": "ipython3",
   "version": "3.6.0"
  }
 },
 "nbformat": 4,
 "nbformat_minor": 2
}
